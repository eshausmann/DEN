{
 "cells": [
  {
   "cell_type": "code",
   "execution_count": 1,
   "id": "331fd9ce",
   "metadata": {
    "_cell_guid": "b1076dfc-b9ad-4769-8c92-a6c4dae69d19",
    "_uuid": "8f2839f25d086af736a60e9eeb907d3b93b6e0e5",
    "execution": {
     "iopub.execute_input": "2023-07-28T20:42:02.277758Z",
     "iopub.status.busy": "2023-07-28T20:42:02.277269Z",
     "iopub.status.idle": "2023-07-28T20:42:02.333848Z",
     "shell.execute_reply": "2023-07-28T20:42:02.332558Z"
    },
    "papermill": {
     "duration": 0.068276,
     "end_time": "2023-07-28T20:42:02.336971",
     "exception": false,
     "start_time": "2023-07-28T20:42:02.268695",
     "status": "completed"
    },
    "tags": []
   },
   "outputs": [
    {
     "data": {
      "text/html": [
       "<div>\n",
       "<style scoped>\n",
       "    .dataframe tbody tr th:only-of-type {\n",
       "        vertical-align: middle;\n",
       "    }\n",
       "\n",
       "    .dataframe tbody tr th {\n",
       "        vertical-align: top;\n",
       "    }\n",
       "\n",
       "    .dataframe thead th {\n",
       "        text-align: right;\n",
       "    }\n",
       "</style>\n",
       "<table border=\"1\" class=\"dataframe\">\n",
       "  <thead>\n",
       "    <tr style=\"text-align: right;\">\n",
       "      <th></th>\n",
       "      <th>title</th>\n",
       "      <th>text</th>\n",
       "      <th>type</th>\n",
       "    </tr>\n",
       "  </thead>\n",
       "  <tbody>\n",
       "    <tr>\n",
       "      <th>0</th>\n",
       "      <td>?? the secrets to SUCCESS</td>\n",
       "      <td>Hi James,\\n\\nHave you claim your complimentary...</td>\n",
       "      <td>spam</td>\n",
       "    </tr>\n",
       "    <tr>\n",
       "      <th>1</th>\n",
       "      <td>?? You Earned 500 GCLoot Points</td>\n",
       "      <td>\\nalt_text\\nCongratulations, you just earned\\n...</td>\n",
       "      <td>not spam</td>\n",
       "    </tr>\n",
       "  </tbody>\n",
       "</table>\n",
       "</div>"
      ],
      "text/plain": [
       "                             title  \\\n",
       "0        ?? the secrets to SUCCESS   \n",
       "1  ?? You Earned 500 GCLoot Points   \n",
       "\n",
       "                                                text      type  \n",
       "0  Hi James,\\n\\nHave you claim your complimentary...      spam  \n",
       "1  \\nalt_text\\nCongratulations, you just earned\\n...  not spam  "
      ]
     },
     "execution_count": 1,
     "metadata": {},
     "output_type": "execute_result"
    }
   ],
   "source": [
    "import pandas as pd\n",
    "import numpy as np\n",
    "df = pd.read_csv(\"/kaggle/input/email-spam-classification/data.csv\",sep=\";\", encoding='cp1252')\n",
    "df.head(2)"
   ]
  },
  {
   "cell_type": "code",
   "execution_count": 2,
   "id": "77ddf1ce",
   "metadata": {
    "execution": {
     "iopub.execute_input": "2023-07-28T20:42:02.351303Z",
     "iopub.status.busy": "2023-07-28T20:42:02.350342Z",
     "iopub.status.idle": "2023-07-28T20:42:02.358197Z",
     "shell.execute_reply": "2023-07-28T20:42:02.357106Z"
    },
    "papermill": {
     "duration": 0.017851,
     "end_time": "2023-07-28T20:42:02.360651",
     "exception": false,
     "start_time": "2023-07-28T20:42:02.342800",
     "status": "completed"
    },
    "tags": []
   },
   "outputs": [
    {
     "data": {
      "text/plain": [
       "(84, 3)"
      ]
     },
     "execution_count": 2,
     "metadata": {},
     "output_type": "execute_result"
    }
   ],
   "source": [
    "df.shape"
   ]
  },
  {
   "cell_type": "code",
   "execution_count": 3,
   "id": "9598a806",
   "metadata": {
    "execution": {
     "iopub.execute_input": "2023-07-28T20:42:02.375068Z",
     "iopub.status.busy": "2023-07-28T20:42:02.374148Z",
     "iopub.status.idle": "2023-07-28T20:42:02.399010Z",
     "shell.execute_reply": "2023-07-28T20:42:02.397941Z"
    },
    "papermill": {
     "duration": 0.035007,
     "end_time": "2023-07-28T20:42:02.401518",
     "exception": false,
     "start_time": "2023-07-28T20:42:02.366511",
     "status": "completed"
    },
    "tags": []
   },
   "outputs": [
    {
     "data": {
      "text/plain": [
       "0"
      ]
     },
     "execution_count": 3,
     "metadata": {},
     "output_type": "execute_result"
    }
   ],
   "source": [
    "df1 = df.copy()\n",
    "# df1.isna().sum()\n",
    "df1.duplicated().sum()\n",
    "df2 = df1.drop_duplicates()\n",
    "df2.duplicated().sum()"
   ]
  },
  {
   "cell_type": "code",
   "execution_count": 4,
   "id": "5227cc48",
   "metadata": {
    "execution": {
     "iopub.execute_input": "2023-07-28T20:42:02.416366Z",
     "iopub.status.busy": "2023-07-28T20:42:02.415094Z",
     "iopub.status.idle": "2023-07-28T20:42:02.433494Z",
     "shell.execute_reply": "2023-07-28T20:42:02.431997Z"
    },
    "papermill": {
     "duration": 0.028835,
     "end_time": "2023-07-28T20:42:02.436409",
     "exception": false,
     "start_time": "2023-07-28T20:42:02.407574",
     "status": "completed"
    },
    "tags": []
   },
   "outputs": [
    {
     "name": "stderr",
     "output_type": "stream",
     "text": [
      "/tmp/ipykernel_20/1888069858.py:1: SettingWithCopyWarning: \n",
      "A value is trying to be set on a copy of a slice from a DataFrame.\n",
      "Try using .loc[row_indexer,col_indexer] = value instead\n",
      "\n",
      "See the caveats in the documentation: https://pandas.pydata.org/pandas-docs/stable/user_guide/indexing.html#returning-a-view-versus-a-copy\n",
      "  df2[\"spam\"] = df2[\"type\"].apply(lambda x: 1 if x == \"spam\" else 0)\n"
     ]
    },
    {
     "data": {
      "text/html": [
       "<div>\n",
       "<style scoped>\n",
       "    .dataframe tbody tr th:only-of-type {\n",
       "        vertical-align: middle;\n",
       "    }\n",
       "\n",
       "    .dataframe tbody tr th {\n",
       "        vertical-align: top;\n",
       "    }\n",
       "\n",
       "    .dataframe thead th {\n",
       "        text-align: right;\n",
       "    }\n",
       "</style>\n",
       "<table border=\"1\" class=\"dataframe\">\n",
       "  <thead>\n",
       "    <tr style=\"text-align: right;\">\n",
       "      <th></th>\n",
       "      <th>title</th>\n",
       "      <th>text</th>\n",
       "      <th>type</th>\n",
       "      <th>spam</th>\n",
       "    </tr>\n",
       "  </thead>\n",
       "  <tbody>\n",
       "    <tr>\n",
       "      <th>0</th>\n",
       "      <td>?? the secrets to SUCCESS</td>\n",
       "      <td>Hi James,\\n\\nHave you claim your complimentary...</td>\n",
       "      <td>spam</td>\n",
       "      <td>1</td>\n",
       "    </tr>\n",
       "    <tr>\n",
       "      <th>1</th>\n",
       "      <td>?? You Earned 500 GCLoot Points</td>\n",
       "      <td>\\nalt_text\\nCongratulations, you just earned\\n...</td>\n",
       "      <td>not spam</td>\n",
       "      <td>0</td>\n",
       "    </tr>\n",
       "  </tbody>\n",
       "</table>\n",
       "</div>"
      ],
      "text/plain": [
       "                             title  \\\n",
       "0        ?? the secrets to SUCCESS   \n",
       "1  ?? You Earned 500 GCLoot Points   \n",
       "\n",
       "                                                text      type  spam  \n",
       "0  Hi James,\\n\\nHave you claim your complimentary...      spam     1  \n",
       "1  \\nalt_text\\nCongratulations, you just earned\\n...  not spam     0  "
      ]
     },
     "execution_count": 4,
     "metadata": {},
     "output_type": "execute_result"
    }
   ],
   "source": [
    "df2[\"spam\"] = df2[\"type\"].apply(lambda x: 1 if x == \"spam\" else 0)\n",
    "df2.head(2)"
   ]
  },
  {
   "cell_type": "code",
   "execution_count": 5,
   "id": "7f2b9a02",
   "metadata": {
    "execution": {
     "iopub.execute_input": "2023-07-28T20:42:02.452025Z",
     "iopub.status.busy": "2023-07-28T20:42:02.451517Z",
     "iopub.status.idle": "2023-07-28T20:42:02.461094Z",
     "shell.execute_reply": "2023-07-28T20:42:02.459812Z"
    },
    "papermill": {
     "duration": 0.020842,
     "end_time": "2023-07-28T20:42:02.463743",
     "exception": false,
     "start_time": "2023-07-28T20:42:02.442901",
     "status": "completed"
    },
    "tags": []
   },
   "outputs": [
    {
     "data": {
      "text/plain": [
       "0    Hi James,\\n\\nHave you claim your complimentary...\n",
       "Name: text, dtype: object"
      ]
     },
     "execution_count": 5,
     "metadata": {},
     "output_type": "execute_result"
    }
   ],
   "source": [
    "df2[\"text\"][:1]"
   ]
  },
  {
   "cell_type": "code",
   "execution_count": 6,
   "id": "175b1584",
   "metadata": {
    "execution": {
     "iopub.execute_input": "2023-07-28T20:42:02.479346Z",
     "iopub.status.busy": "2023-07-28T20:42:02.478859Z",
     "iopub.status.idle": "2023-07-28T20:42:02.488529Z",
     "shell.execute_reply": "2023-07-28T20:42:02.487147Z"
    },
    "papermill": {
     "duration": 0.020863,
     "end_time": "2023-07-28T20:42:02.491229",
     "exception": false,
     "start_time": "2023-07-28T20:42:02.470366",
     "status": "completed"
    },
    "tags": []
   },
   "outputs": [
    {
     "name": "stderr",
     "output_type": "stream",
     "text": [
      "/tmp/ipykernel_20/1178657874.py:1: SettingWithCopyWarning: \n",
      "A value is trying to be set on a copy of a slice from a DataFrame.\n",
      "Try using .loc[row_indexer,col_indexer] = value instead\n",
      "\n",
      "See the caveats in the documentation: https://pandas.pydata.org/pandas-docs/stable/user_guide/indexing.html#returning-a-view-versus-a-copy\n",
      "  df2[\"text\"] = df2[\"text\"].replace('\\n','', regex=True)\n"
     ]
    }
   ],
   "source": [
    "df2[\"text\"] = df2[\"text\"].replace('\\n','', regex=True)"
   ]
  },
  {
   "cell_type": "code",
   "execution_count": 7,
   "id": "b1bd74b8",
   "metadata": {
    "execution": {
     "iopub.execute_input": "2023-07-28T20:42:02.506634Z",
     "iopub.status.busy": "2023-07-28T20:42:02.506146Z",
     "iopub.status.idle": "2023-07-28T20:42:02.515974Z",
     "shell.execute_reply": "2023-07-28T20:42:02.514773Z"
    },
    "papermill": {
     "duration": 0.020405,
     "end_time": "2023-07-28T20:42:02.518246",
     "exception": false,
     "start_time": "2023-07-28T20:42:02.497841",
     "status": "completed"
    },
    "tags": []
   },
   "outputs": [
    {
     "data": {
      "text/plain": [
       "0    Hi James,Have you claim your complimentary gif...\n",
       "Name: text, dtype: object"
      ]
     },
     "execution_count": 7,
     "metadata": {},
     "output_type": "execute_result"
    }
   ],
   "source": [
    "df2[\"text\"][:1]"
   ]
  },
  {
   "cell_type": "code",
   "execution_count": 8,
   "id": "27aed14d",
   "metadata": {
    "execution": {
     "iopub.execute_input": "2023-07-28T20:42:02.533861Z",
     "iopub.status.busy": "2023-07-28T20:42:02.533351Z",
     "iopub.status.idle": "2023-07-28T20:42:02.552395Z",
     "shell.execute_reply": "2023-07-28T20:42:02.551055Z"
    },
    "papermill": {
     "duration": 0.030501,
     "end_time": "2023-07-28T20:42:02.555329",
     "exception": false,
     "start_time": "2023-07-28T20:42:02.524828",
     "status": "completed"
    },
    "tags": []
   },
   "outputs": [
    {
     "data": {
      "text/html": [
       "<div>\n",
       "<style scoped>\n",
       "    .dataframe tbody tr th:only-of-type {\n",
       "        vertical-align: middle;\n",
       "    }\n",
       "\n",
       "    .dataframe tbody tr th {\n",
       "        vertical-align: top;\n",
       "    }\n",
       "\n",
       "    .dataframe thead th {\n",
       "        text-align: right;\n",
       "    }\n",
       "</style>\n",
       "<table border=\"1\" class=\"dataframe\">\n",
       "  <thead>\n",
       "    <tr style=\"text-align: right;\">\n",
       "      <th></th>\n",
       "      <th>text</th>\n",
       "      <th>spam</th>\n",
       "    </tr>\n",
       "  </thead>\n",
       "  <tbody>\n",
       "    <tr>\n",
       "      <th>0</th>\n",
       "      <td>Hi James,Have you claim your complimentary gif...</td>\n",
       "      <td>1</td>\n",
       "    </tr>\n",
       "    <tr>\n",
       "      <th>1</th>\n",
       "      <td>alt_textCongratulations, you just earned500You...</td>\n",
       "      <td>0</td>\n",
       "    </tr>\n",
       "    <tr>\n",
       "      <th>2</th>\n",
       "      <td>Here's your GitHub launch code, @Mortyj420! an...</td>\n",
       "      <td>0</td>\n",
       "    </tr>\n",
       "    <tr>\n",
       "      <th>3</th>\n",
       "      <td>Hello, Thank you for contacting the Virtual Re...</td>\n",
       "      <td>0</td>\n",
       "    </tr>\n",
       "    <tr>\n",
       "      <th>4</th>\n",
       "      <td>Hey Prachanda Rawal,Today's newsletter is Jam-...</td>\n",
       "      <td>1</td>\n",
       "    </tr>\n",
       "    <tr>\n",
       "      <th>...</th>\n",
       "      <td>...</td>\n",
       "      <td>...</td>\n",
       "    </tr>\n",
       "    <tr>\n",
       "      <th>79</th>\n",
       "      <td>Dear Maryam,  I would like to thank you for yo...</td>\n",
       "      <td>0</td>\n",
       "    </tr>\n",
       "    <tr>\n",
       "      <th>80</th>\n",
       "      <td>Dear Customer,Welcome to Kilimall, Thanks so m...</td>\n",
       "      <td>0</td>\n",
       "    </tr>\n",
       "    <tr>\n",
       "      <th>81</th>\n",
       "      <td>Dear vladis163rus,Here is the Steam Guard code...</td>\n",
       "      <td>0</td>\n",
       "    </tr>\n",
       "    <tr>\n",
       "      <th>82</th>\n",
       "      <td>View In Browser | Log in  Skrill logoMoney mov...</td>\n",
       "      <td>0</td>\n",
       "    </tr>\n",
       "    <tr>\n",
       "      <th>83</th>\n",
       "      <td>You've received a gift!Sign in to your Bard Ex...</td>\n",
       "      <td>0</td>\n",
       "    </tr>\n",
       "  </tbody>\n",
       "</table>\n",
       "<p>83 rows × 2 columns</p>\n",
       "</div>"
      ],
      "text/plain": [
       "                                                 text  spam\n",
       "0   Hi James,Have you claim your complimentary gif...     1\n",
       "1   alt_textCongratulations, you just earned500You...     0\n",
       "2   Here's your GitHub launch code, @Mortyj420! an...     0\n",
       "3   Hello, Thank you for contacting the Virtual Re...     0\n",
       "4   Hey Prachanda Rawal,Today's newsletter is Jam-...     1\n",
       "..                                                ...   ...\n",
       "79  Dear Maryam,  I would like to thank you for yo...     0\n",
       "80  Dear Customer,Welcome to Kilimall, Thanks so m...     0\n",
       "81  Dear vladis163rus,Here is the Steam Guard code...     0\n",
       "82  View In Browser | Log in  Skrill logoMoney mov...     0\n",
       "83  You've received a gift!Sign in to your Bard Ex...     0\n",
       "\n",
       "[83 rows x 2 columns]"
      ]
     },
     "execution_count": 8,
     "metadata": {},
     "output_type": "execute_result"
    }
   ],
   "source": [
    "df2[[\"text\",\"spam\"]]"
   ]
  },
  {
   "cell_type": "code",
   "execution_count": 9,
   "id": "b9e8a3d0",
   "metadata": {
    "execution": {
     "iopub.execute_input": "2023-07-28T20:42:02.572051Z",
     "iopub.status.busy": "2023-07-28T20:42:02.571529Z",
     "iopub.status.idle": "2023-07-28T20:42:03.934668Z",
     "shell.execute_reply": "2023-07-28T20:42:03.933367Z"
    },
    "papermill": {
     "duration": 1.375314,
     "end_time": "2023-07-28T20:42:03.937795",
     "exception": false,
     "start_time": "2023-07-28T20:42:02.562481",
     "status": "completed"
    },
    "tags": []
   },
   "outputs": [
    {
     "name": "stderr",
     "output_type": "stream",
     "text": [
      "/opt/conda/lib/python3.10/site-packages/scipy/__init__.py:146: UserWarning: A NumPy version >=1.16.5 and <1.23.0 is required for this version of SciPy (detected version 1.23.5\n",
      "  warnings.warn(f\"A NumPy version >={np_minversion} and <{np_maxversion}\"\n"
     ]
    }
   ],
   "source": [
    "from sklearn.model_selection import train_test_split\n",
    "x_train, x_test, y_train, y_test = train_test_split(df2[\"text\"],df2[\"spam\"],test_size=0.1)\n"
   ]
  },
  {
   "cell_type": "code",
   "execution_count": 10,
   "id": "4a4280b9",
   "metadata": {
    "execution": {
     "iopub.execute_input": "2023-07-28T20:42:03.955473Z",
     "iopub.status.busy": "2023-07-28T20:42:03.955022Z",
     "iopub.status.idle": "2023-07-28T20:42:04.005854Z",
     "shell.execute_reply": "2023-07-28T20:42:04.004909Z"
    },
    "papermill": {
     "duration": 0.062664,
     "end_time": "2023-07-28T20:42:04.008634",
     "exception": false,
     "start_time": "2023-07-28T20:42:03.945970",
     "status": "completed"
    },
    "tags": []
   },
   "outputs": [
    {
     "data": {
      "text/plain": [
       "array([[0, 0, 0, ..., 0, 0, 0],\n",
       "       [0, 0, 0, ..., 0, 0, 0],\n",
       "       [0, 0, 0, ..., 0, 0, 0],\n",
       "       ...,\n",
       "       [0, 0, 0, ..., 0, 0, 2],\n",
       "       [0, 1, 0, ..., 0, 0, 0],\n",
       "       [0, 0, 0, ..., 0, 0, 0]])"
      ]
     },
     "execution_count": 10,
     "metadata": {},
     "output_type": "execute_result"
    }
   ],
   "source": [
    "from sklearn.feature_extraction.text import CountVectorizer\n",
    "v = CountVectorizer()\n",
    "x_train_count = v.fit_transform(x_train.values)\n",
    "x_train_count.toarray()"
   ]
  },
  {
   "cell_type": "code",
   "execution_count": 11,
   "id": "aef55f9c",
   "metadata": {
    "execution": {
     "iopub.execute_input": "2023-07-28T20:42:04.026781Z",
     "iopub.status.busy": "2023-07-28T20:42:04.025583Z",
     "iopub.status.idle": "2023-07-28T20:42:04.056695Z",
     "shell.execute_reply": "2023-07-28T20:42:04.055828Z"
    },
    "papermill": {
     "duration": 0.043565,
     "end_time": "2023-07-28T20:42:04.059270",
     "exception": false,
     "start_time": "2023-07-28T20:42:04.015705",
     "status": "completed"
    },
    "tags": []
   },
   "outputs": [
    {
     "data": {
      "text/html": [
       "<style>#sk-container-id-1 {color: black;background-color: white;}#sk-container-id-1 pre{padding: 0;}#sk-container-id-1 div.sk-toggleable {background-color: white;}#sk-container-id-1 label.sk-toggleable__label {cursor: pointer;display: block;width: 100%;margin-bottom: 0;padding: 0.3em;box-sizing: border-box;text-align: center;}#sk-container-id-1 label.sk-toggleable__label-arrow:before {content: \"▸\";float: left;margin-right: 0.25em;color: #696969;}#sk-container-id-1 label.sk-toggleable__label-arrow:hover:before {color: black;}#sk-container-id-1 div.sk-estimator:hover label.sk-toggleable__label-arrow:before {color: black;}#sk-container-id-1 div.sk-toggleable__content {max-height: 0;max-width: 0;overflow: hidden;text-align: left;background-color: #f0f8ff;}#sk-container-id-1 div.sk-toggleable__content pre {margin: 0.2em;color: black;border-radius: 0.25em;background-color: #f0f8ff;}#sk-container-id-1 input.sk-toggleable__control:checked~div.sk-toggleable__content {max-height: 200px;max-width: 100%;overflow: auto;}#sk-container-id-1 input.sk-toggleable__control:checked~label.sk-toggleable__label-arrow:before {content: \"▾\";}#sk-container-id-1 div.sk-estimator input.sk-toggleable__control:checked~label.sk-toggleable__label {background-color: #d4ebff;}#sk-container-id-1 div.sk-label input.sk-toggleable__control:checked~label.sk-toggleable__label {background-color: #d4ebff;}#sk-container-id-1 input.sk-hidden--visually {border: 0;clip: rect(1px 1px 1px 1px);clip: rect(1px, 1px, 1px, 1px);height: 1px;margin: -1px;overflow: hidden;padding: 0;position: absolute;width: 1px;}#sk-container-id-1 div.sk-estimator {font-family: monospace;background-color: #f0f8ff;border: 1px dotted black;border-radius: 0.25em;box-sizing: border-box;margin-bottom: 0.5em;}#sk-container-id-1 div.sk-estimator:hover {background-color: #d4ebff;}#sk-container-id-1 div.sk-parallel-item::after {content: \"\";width: 100%;border-bottom: 1px solid gray;flex-grow: 1;}#sk-container-id-1 div.sk-label:hover label.sk-toggleable__label {background-color: #d4ebff;}#sk-container-id-1 div.sk-serial::before {content: \"\";position: absolute;border-left: 1px solid gray;box-sizing: border-box;top: 0;bottom: 0;left: 50%;z-index: 0;}#sk-container-id-1 div.sk-serial {display: flex;flex-direction: column;align-items: center;background-color: white;padding-right: 0.2em;padding-left: 0.2em;position: relative;}#sk-container-id-1 div.sk-item {position: relative;z-index: 1;}#sk-container-id-1 div.sk-parallel {display: flex;align-items: stretch;justify-content: center;background-color: white;position: relative;}#sk-container-id-1 div.sk-item::before, #sk-container-id-1 div.sk-parallel-item::before {content: \"\";position: absolute;border-left: 1px solid gray;box-sizing: border-box;top: 0;bottom: 0;left: 50%;z-index: -1;}#sk-container-id-1 div.sk-parallel-item {display: flex;flex-direction: column;z-index: 1;position: relative;background-color: white;}#sk-container-id-1 div.sk-parallel-item:first-child::after {align-self: flex-end;width: 50%;}#sk-container-id-1 div.sk-parallel-item:last-child::after {align-self: flex-start;width: 50%;}#sk-container-id-1 div.sk-parallel-item:only-child::after {width: 0;}#sk-container-id-1 div.sk-dashed-wrapped {border: 1px dashed gray;margin: 0 0.4em 0.5em 0.4em;box-sizing: border-box;padding-bottom: 0.4em;background-color: white;}#sk-container-id-1 div.sk-label label {font-family: monospace;font-weight: bold;display: inline-block;line-height: 1.2em;}#sk-container-id-1 div.sk-label-container {text-align: center;}#sk-container-id-1 div.sk-container {/* jupyter's `normalize.less` sets `[hidden] { display: none; }` but bootstrap.min.css set `[hidden] { display: none !important; }` so we also need the `!important` here to be able to override the default hidden behavior on the sphinx rendered scikit-learn.org. See: https://github.com/scikit-learn/scikit-learn/issues/21755 */display: inline-block !important;position: relative;}#sk-container-id-1 div.sk-text-repr-fallback {display: none;}</style><div id=\"sk-container-id-1\" class=\"sk-top-container\"><div class=\"sk-text-repr-fallback\"><pre>MultinomialNB()</pre><b>In a Jupyter environment, please rerun this cell to show the HTML representation or trust the notebook. <br />On GitHub, the HTML representation is unable to render, please try loading this page with nbviewer.org.</b></div><div class=\"sk-container\" hidden><div class=\"sk-item\"><div class=\"sk-estimator sk-toggleable\"><input class=\"sk-toggleable__control sk-hidden--visually\" id=\"sk-estimator-id-1\" type=\"checkbox\" checked><label for=\"sk-estimator-id-1\" class=\"sk-toggleable__label sk-toggleable__label-arrow\">MultinomialNB</label><div class=\"sk-toggleable__content\"><pre>MultinomialNB()</pre></div></div></div></div></div>"
      ],
      "text/plain": [
       "MultinomialNB()"
      ]
     },
     "execution_count": 11,
     "metadata": {},
     "output_type": "execute_result"
    }
   ],
   "source": [
    "from sklearn.naive_bayes import MultinomialNB\n",
    "model = MultinomialNB()\n",
    "model.fit(x_train_count,y_train)"
   ]
  },
  {
   "cell_type": "code",
   "execution_count": 12,
   "id": "7e8847d6",
   "metadata": {
    "execution": {
     "iopub.execute_input": "2023-07-28T20:42:04.076447Z",
     "iopub.status.busy": "2023-07-28T20:42:04.075330Z",
     "iopub.status.idle": "2023-07-28T20:42:04.086030Z",
     "shell.execute_reply": "2023-07-28T20:42:04.084847Z"
    },
    "papermill": {
     "duration": 0.021997,
     "end_time": "2023-07-28T20:42:04.088638",
     "exception": false,
     "start_time": "2023-07-28T20:42:04.066641",
     "status": "completed"
    },
    "tags": []
   },
   "outputs": [
    {
     "data": {
      "text/plain": [
       "array([0, 1])"
      ]
     },
     "execution_count": 12,
     "metadata": {},
     "output_type": "execute_result"
    }
   ],
   "source": [
    "Emails = [\n",
    "    'Hello Yassin, how about to go to the club tommorow ',\n",
    "    '50% discount on data science courses singup now'\n",
    "]\n",
    "\n",
    "emails_count = v.transform(Emails)\n",
    "model.predict(emails_count)"
   ]
  },
  {
   "cell_type": "code",
   "execution_count": 13,
   "id": "977dc157",
   "metadata": {
    "execution": {
     "iopub.execute_input": "2023-07-28T20:42:04.105408Z",
     "iopub.status.busy": "2023-07-28T20:42:04.104723Z",
     "iopub.status.idle": "2023-07-28T20:42:04.115824Z",
     "shell.execute_reply": "2023-07-28T20:42:04.114573Z"
    },
    "papermill": {
     "duration": 0.022756,
     "end_time": "2023-07-28T20:42:04.118703",
     "exception": false,
     "start_time": "2023-07-28T20:42:04.095947",
     "status": "completed"
    },
    "tags": []
   },
   "outputs": [
    {
     "data": {
      "text/plain": [
       "0.7777777777777778"
      ]
     },
     "execution_count": 13,
     "metadata": {},
     "output_type": "execute_result"
    }
   ],
   "source": [
    "x_test_count =v.transform(x_test)\n",
    "model.score(x_test_count,y_test)"
   ]
  }
 ],
 "metadata": {
  "kernelspec": {
   "display_name": "Python 3",
   "language": "python",
   "name": "python3"
  },
  "language_info": {
   "codemirror_mode": {
    "name": "ipython",
    "version": 3
   },
   "file_extension": ".py",
   "mimetype": "text/x-python",
   "name": "python",
   "nbconvert_exporter": "python",
   "pygments_lexer": "ipython3",
   "version": "3.10.12"
  },
  "papermill": {
   "default_parameters": {},
   "duration": 16.945144,
   "end_time": "2023-07-28T20:42:05.153205",
   "environment_variables": {},
   "exception": null,
   "input_path": "__notebook__.ipynb",
   "output_path": "__notebook__.ipynb",
   "parameters": {},
   "start_time": "2023-07-28T20:41:48.208061",
   "version": "2.4.0"
  }
 },
 "nbformat": 4,
 "nbformat_minor": 5
}
